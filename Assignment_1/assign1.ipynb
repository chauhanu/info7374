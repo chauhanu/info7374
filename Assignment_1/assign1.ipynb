{
 "cells": [
  {
   "cell_type": "code",
   "execution_count": null,
   "metadata": {
    "collapsed": true
   },
   "outputs": [],
   "source": [
    "# Q1\n",
    "lst = [x for x in range(1, 501) if x % 21 == 0]\n",
    "mean = sum(lst) / len(lst)\n",
    "q25 = lst[int(len(lst)*0.25)]\n",
    "q50 = lst[int(len(lst)*0.5)]\n",
    "q75 = lst[int(len(lst)*0.75)]\n",
    "\n",
    "# Q2\n",
    "words = []\n",
    "with open(\"ques2.txt\", \"r\") as f:\n",
    "    words = words + f.read().split()\n",
    "print(len(words)) #number of words\n",
    "word_length = [len(w) for w in words]\n",
    "avg = sum(word_length) / len(word_length)  #average\n",
    "median = sorted(word_length)[len(word_length)//2]  #median\n",
    "mode = max(set(word_length), key=word_length.count)  #mode\n",
    "\n",
    "# Q3\n",
    "import glob, random\n",
    "nf_count = 0  # contains \"user not found\"\n",
    "userdict = {}\n",
    "for fname in glob.glob(\"jsons/*.json\"):\n",
    "    with open(fname, \"r\") as f:\n",
    "        id = fname[6:-5]\n",
    "        if \"user not found\" in f.read().lower():\n",
    "            nf_count = nf_count + 1\n",
    "            userdict[id] = 1 # not found\n",
    "        else:\n",
    "            userdict[id] = 0 # found\n",
    "keys = list(userdict.keys())\n",
    "for _ in range(5):\n",
    "    index = random.randint(0, len(userdict)-1)\n",
    "    print(keys[index], userdict[keys[index]])\n",
    "\n",
    "# Q4\n",
    "import re\n",
    "user_party = {}  #{id : (10, 20) }\n",
    "for fname in glob.glob(\"jsons/*.json\"):\n",
    "    with open(fname, \"r\") as f:\n",
    "        id = fname[6:-5]\n",
    "        text = f.read()\n",
    "        sids = [s.start() for s in re.finditer(\"segmentUid\", text)]\n",
    "        nfirst = 0\n",
    "        nthird = 0\n",
    "        for sid in sids:\n",
    "            if text[sid+13] == \"0\":\n",
    "                nfirst += 1\n",
    "            elif text[sid+13] == \"1\":\n",
    "                nthird += 1\n",
    "        user_party[id] = (nfirst, nthird)\n"
   ]
  }
 ],
 "metadata": {
  "kernelspec": {
   "display_name": "Python 3",
   "language": "python",
   "name": "python3"
  },
  "language_info": {
   "codemirror_mode": {
    "name": "ipython",
    "version": 3
   },
   "file_extension": ".py",
   "mimetype": "text/x-python",
   "name": "python",
   "nbconvert_exporter": "python",
   "pygments_lexer": "ipython3",
   "version": "3.5.2"
  }
 },
 "nbformat": 4,
 "nbformat_minor": 1
}
